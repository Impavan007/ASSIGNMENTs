{
  "nbformat": 4,
  "nbformat_minor": 0,
  "metadata": {
    "colab": {
      "provenance": []
    },
    "kernelspec": {
      "name": "python3",
      "display_name": "Python 3"
    },
    "language_info": {
      "name": "python"
    }
  },
  "cells": [
    {
      "cell_type": "code",
      "execution_count": 9,
      "metadata": {
        "colab": {
          "base_uri": "https://localhost:8080/"
        },
        "id": "0bLb4pUSilpn",
        "outputId": "fc537a23-04cb-415a-b3d6-594302f68f09"
      },
      "outputs": [
        {
          "output_type": "execute_result",
          "data": {
            "text/plain": [
              "1.0"
            ]
          },
          "metadata": {},
          "execution_count": 9
        }
      ],
      "source": [
        "# 1. Train Decision Tree Classifier on Iris dataset and print accuracy\n",
        "from sklearn.datasets import load_iris\n",
        "from sklearn.tree import DecisionTreeClassifier\n",
        "from sklearn.model_selection import train_test_split\n",
        "from sklearn.metrics import accuracy_score\n",
        "\n",
        "iris_data_1 = load_iris()\n",
        "X_iris_1 = iris_data_1.data\n",
        "y_iris_1 = iris_data_1.target\n",
        "\n",
        "X_train_1, X_test_1, y_train_1, y_test_1 = train_test_split(X_iris_1, y_iris_1, test_size=0.3, random_state=42)\n",
        "clf_iris_1 = DecisionTreeClassifier()\n",
        "clf_iris_1.fit(X_train_1, y_train_1)\n",
        "y_pred_1 = clf_iris_1.predict(X_test_1)\n",
        "accuracy_1 = accuracy_score(y_test_1, y_pred_1)\n",
        "\n",
        "accuracy_1\n"
      ]
    },
    {
      "cell_type": "code",
      "source": [
        "# 2. Train Decision Tree Classifier using Gini Impurity and print feature importances\n",
        "iris_data_2 = load_iris()\n",
        "X_iris_2 = iris_data_2.data\n",
        "y_iris_2 = iris_data_2.target\n",
        "\n",
        "X_train_2, X_test_2, y_train_2, y_test_2 = train_test_split(X_iris_2, y_iris_2, test_size=0.3, random_state=42)\n",
        "clf_iris_gini = DecisionTreeClassifier(criterion='gini')\n",
        "clf_iris_gini.fit(X_train_2, y_train_2)\n",
        "feature_importances_2 = clf_iris_gini.feature_importances_\n",
        "\n",
        "feature_importances_2\n"
      ],
      "metadata": {
        "colab": {
          "base_uri": "https://localhost:8080/"
        },
        "id": "lKeD6c28ipbs",
        "outputId": "962d0ffc-7e1c-457b-f29a-9c9d7fe40044"
      },
      "execution_count": 10,
      "outputs": [
        {
          "output_type": "execute_result",
          "data": {
            "text/plain": [
              "array([0.        , 0.01911002, 0.42356658, 0.5573234 ])"
            ]
          },
          "metadata": {},
          "execution_count": 10
        }
      ]
    },
    {
      "cell_type": "code",
      "source": [
        "# 3. Train Decision Tree Classifier using Entropy and print accuracy\n",
        "iris_data_3 = load_iris()\n",
        "X_iris_3 = iris_data_3.data\n",
        "y_iris_3 = iris_data_3.target\n",
        "\n",
        "X_train_3, X_test_3, y_train_3, y_test_3 = train_test_split(X_iris_3, y_iris_3, test_size=0.3, random_state=42)\n",
        "clf_iris_entropy = DecisionTreeClassifier(criterion='entropy')\n",
        "clf_iris_entropy.fit(X_train_3, y_train_3)\n",
        "y_pred_3 = clf_iris_entropy.predict(X_test_3)\n",
        "accuracy_3 = accuracy_score(y_test_3, y_pred_3)\n",
        "\n",
        "accuracy_3\n"
      ],
      "metadata": {
        "colab": {
          "base_uri": "https://localhost:8080/"
        },
        "id": "UXIdWL0cixPh",
        "outputId": "e866bef5-8f37-47a0-c6fa-c810250c998f"
      },
      "execution_count": 11,
      "outputs": [
        {
          "output_type": "execute_result",
          "data": {
            "text/plain": [
              "1.0"
            ]
          },
          "metadata": {},
          "execution_count": 11
        }
      ]
    },
    {
      "cell_type": "code",
      "source": [
        "from sklearn.datasets import fetch_california_housing\n",
        "from sklearn.model_selection import train_test_split\n",
        "from sklearn.tree import DecisionTreeRegressor\n",
        "from sklearn.metrics import mean_squared_error\n",
        "\n",
        "housing_data_4 = fetch_california_housing()\n",
        "X_house_4 = housing_data_4.data\n",
        "y_house_4 = housing_data_4.target\n",
        "\n",
        "X_train_4, X_test_4, y_train_4, y_test_4 = train_test_split(X_house_4, y_house_4, test_size=0.3, random_state=42)\n",
        "reg_4 = DecisionTreeRegressor()\n",
        "reg_4.fit(X_train_4, y_train_4)\n",
        "y_pred_4 = reg_4.predict(X_test_4)\n",
        "\n",
        "print(\"MSE:\", mean_squared_error(y_test_4, y_pred_4))\n"
      ],
      "metadata": {
        "colab": {
          "base_uri": "https://localhost:8080/"
        },
        "id": "EQuf710SizVq",
        "outputId": "239890f2-bb84-4232-f213-6dd08ee85e81"
      },
      "execution_count": 12,
      "outputs": [
        {
          "output_type": "stream",
          "name": "stdout",
          "text": [
            "MSE: 0.5351200352207365\n"
          ]
        }
      ]
    },
    {
      "cell_type": "code",
      "source": [
        "from sklearn.datasets import load_iris\n",
        "from sklearn.tree import DecisionTreeClassifier, export_graphviz\n",
        "import graphviz\n",
        "\n",
        "iris_5 = load_iris()\n",
        "X_iris_5 = iris_5.data\n",
        "y_iris_5 = iris_5.target\n",
        "\n",
        "clf_5 = DecisionTreeClassifier()\n",
        "clf_5.fit(X_iris_5, y_iris_5)\n",
        "\n",
        "dot_data = export_graphviz(clf_5, out_file=None, feature_names=iris_5.feature_names,\n",
        "                           class_names=iris_5.target_names, filled=True, rounded=True, special_characters=True)\n",
        "graph = graphviz.Source(dot_data)\n",
        "graph.render(\"iris_tree\")  # Saves as iris_tree.pdf\n",
        "graph.view()\n"
      ],
      "metadata": {
        "colab": {
          "base_uri": "https://localhost:8080/",
          "height": 35
        },
        "id": "lzh_3-iti0NH",
        "outputId": "bf625171-e5da-41fe-c5c3-cb3056a6d8f2"
      },
      "execution_count": 13,
      "outputs": [
        {
          "output_type": "execute_result",
          "data": {
            "text/plain": [
              "'iris_tree.pdf'"
            ],
            "application/vnd.google.colaboratory.intrinsic+json": {
              "type": "string"
            }
          },
          "metadata": {},
          "execution_count": 13
        }
      ]
    },
    {
      "cell_type": "code",
      "source": [
        "from sklearn.datasets import load_iris\n",
        "from sklearn.model_selection import train_test_split\n",
        "from sklearn.tree import DecisionTreeClassifier\n",
        "from sklearn.metrics import accuracy_score\n",
        "\n",
        "# Load the Iris dataset\n",
        "iris = load_iris()\n",
        "X = iris.data           # Features (sepal/petal length/width)\n",
        "y = iris.target         # Labels (0 = setosa, 1 = versicolor, 2 = virginica)\n",
        "\n",
        "# Split into training and testing sets (70% train, 30% test)\n",
        "X_train, X_test, y_train, y_test = train_test_split(X, y, test_size=0.3, random_state=42)\n",
        "\n",
        "# Shallow Tree\n",
        "shallow_tree = DecisionTreeClassifier(max_depth=3)\n",
        "shallow_tree.fit(X_train, y_train)\n",
        "print(\"Shallow Tree Accuracy:\", accuracy_score(y_test, shallow_tree.predict(X_test)))\n",
        "\n",
        "# Fully grown tree\n",
        "full_tree = DecisionTreeClassifier()\n",
        "full_tree.fit(X_train, y_train)\n",
        "print(\"Full Tree Accuracy:\", accuracy_score(y_test, full_tree.predict(X_test)))\n"
      ],
      "metadata": {
        "colab": {
          "base_uri": "https://localhost:8080/"
        },
        "id": "pKT1Q6qFi5YU",
        "outputId": "c83ef35b-8c56-40ea-eea3-24bf9056bf7e"
      },
      "execution_count": 7,
      "outputs": [
        {
          "output_type": "stream",
          "name": "stdout",
          "text": [
            "Shallow Tree Accuracy: 1.0\n",
            "Full Tree Accuracy: 1.0\n"
          ]
        }
      ]
    },
    {
      "cell_type": "code",
      "source": [
        "from sklearn.preprocessing import StandardScaler\n",
        "\n",
        "X_8, y_8 = load_iris(return_X_y=True)\n",
        "scaler_8 = StandardScaler()\n",
        "X_scaled_8 = scaler_8.fit_transform(X_8)\n",
        "\n",
        "X_train_scaled_8, X_test_scaled_8, y_train_8, y_test_8 = train_test_split(X_scaled_8, y_8, test_size=0.3, random_state=42)\n",
        "tree_scaled = DecisionTreeClassifier()\n",
        "tree_scaled.fit(X_train_scaled_8, y_train_8)\n",
        "acc_scaled = tree_scaled.score(X_test_scaled_8, y_test_8)\n",
        "\n",
        "X_train_unscaled_8, X_test_unscaled_8, _, _ = train_test_split(X_8, y_8, test_size=0.3, random_state=42)\n",
        "tree_unscaled = DecisionTreeClassifier()\n",
        "tree_unscaled.fit(X_train_unscaled_8, y_train_8)\n",
        "acc_unscaled = tree_unscaled.score(X_test_unscaled_8, y_test_8)\n",
        "\n",
        "print(\"Accuracy with scaled data:\", acc_scaled)\n",
        "print(\"Accuracy with unscaled data:\", acc_unscaled)\n"
      ],
      "metadata": {
        "colab": {
          "base_uri": "https://localhost:8080/"
        },
        "id": "2jKDFTH5jSXo",
        "outputId": "9afd56c7-eb52-45bf-ec04-c5fbd4cd35a4"
      },
      "execution_count": 14,
      "outputs": [
        {
          "output_type": "stream",
          "name": "stdout",
          "text": [
            "Accuracy with scaled data: 1.0\n",
            "Accuracy with unscaled data: 1.0\n"
          ]
        }
      ]
    },
    {
      "cell_type": "code",
      "source": [
        "from sklearn.multiclass import OneVsRestClassifier\n",
        "\n",
        "X_9, y_9 = load_iris(return_X_y=True)\n",
        "X_train_9, X_test_9, y_train_9, y_test_9 = train_test_split(X_9, y_9, test_size=0.3, random_state=42)\n",
        "\n",
        "ovr_9 = OneVsRestClassifier(DecisionTreeClassifier())\n",
        "ovr_9.fit(X_train_9, y_train_9)\n",
        "acc_ovr = ovr_9.score(X_test_9, y_test_9)\n",
        "\n",
        "print(\"Accuracy using One-vs-Rest strategy:\", acc_ovr)\n"
      ],
      "metadata": {
        "colab": {
          "base_uri": "https://localhost:8080/"
        },
        "id": "sNYngFZjjrcQ",
        "outputId": "3bf2f259-8c79-4254-dc99-c38f825432cf"
      },
      "execution_count": 15,
      "outputs": [
        {
          "output_type": "stream",
          "name": "stdout",
          "text": [
            "Accuracy using One-vs-Rest strategy: 1.0\n"
          ]
        }
      ]
    },
    {
      "cell_type": "code",
      "source": [
        "iris_10 = load_iris()\n",
        "X_10 = iris_10.data\n",
        "y_10 = iris_10.target\n",
        "\n",
        "clf_10 = DecisionTreeClassifier()\n",
        "clf_10.fit(X_10, y_10)\n",
        "\n",
        "print(\"Feature importances:\", clf_10.feature_importances_)\n"
      ],
      "metadata": {
        "colab": {
          "base_uri": "https://localhost:8080/"
        },
        "id": "wVtNCv_KkoxV",
        "outputId": "e658d4db-c9b7-4bce-f564-7a5d15537497"
      },
      "execution_count": 16,
      "outputs": [
        {
          "output_type": "stream",
          "name": "stdout",
          "text": [
            "Feature importances: [0.         0.01333333 0.56405596 0.42261071]\n"
          ]
        }
      ]
    },
    {
      "cell_type": "code",
      "source": [
        "X_11, y_11 = fetch_california_housing(return_X_y=True)\n",
        "X_train_11, X_test_11, y_train_11, y_test_11 = train_test_split(X_11, y_11, test_size=0.3, random_state=42)\n",
        "\n",
        "reg_5 = DecisionTreeRegressor(max_depth=5)\n",
        "reg_5.fit(X_train_11, y_train_11)\n",
        "mse_5 = mean_squared_error(y_test_11, reg_5.predict(X_test_11))\n",
        "\n",
        "reg_full = DecisionTreeRegressor()\n",
        "reg_full.fit(X_train_11, y_train_11)\n",
        "mse_full = mean_squared_error(y_test_11, reg_full.predict(X_test_11))\n",
        "\n",
        "print(\"MSE with max_depth=5:\", mse_5)\n",
        "print(\"MSE with full depth:\", mse_full)\n",
        "\n",
        ""
      ],
      "metadata": {
        "colab": {
          "base_uri": "https://localhost:8080/"
        },
        "id": "7MsNcVwHkrLI",
        "outputId": "fab79f91-b35a-488b-94b7-ee54453664e7"
      },
      "execution_count": 17,
      "outputs": [
        {
          "output_type": "stream",
          "name": "stdout",
          "text": [
            "MSE with max_depth=5: 0.5210801561811792\n",
            "MSE with full depth: 0.5355218453532138\n"
          ]
        }
      ]
    },
    {
      "cell_type": "code",
      "source": [
        "import matplotlib.pyplot as plt\n",
        "\n",
        "X_12, y_12 = load_iris(return_X_y=True)\n",
        "X_train_12, X_test_12, y_train_12, y_test_12 = train_test_split(X_12, y_12, test_size=0.3, random_state=42)\n",
        "\n",
        "clf_path = DecisionTreeClassifier(random_state=0).cost_complexity_pruning_path(X_train_12, y_train_12)\n",
        "ccp_alphas = clf_path.ccp_alphas[:-1]\n",
        "\n",
        "train_scores = []\n",
        "test_scores = []\n",
        "\n",
        "for ccp_alpha in ccp_alphas:\n",
        "    clf = DecisionTreeClassifier(random_state=0, ccp_alpha=ccp_alpha)\n",
        "    clf.fit(X_train_12, y_train_12)\n",
        "    train_scores.append(clf.score(X_train_12, y_train_12))\n",
        "    test_scores.append(clf.score(X_test_12, y_test_12))\n",
        "\n",
        "plt.plot(ccp_alphas, train_scores, marker='o', label='Train Accuracy')\n",
        "plt.plot(ccp_alphas, test_scores, marker='x', label='Test Accuracy')\n",
        "plt.legend()\n",
        "plt.xlabel(\"ccp_alpha\")\n",
        "plt.ylabel(\"Accuracy\")\n",
        "plt.title(\"Cost Complexity Pruning Effect\")\n",
        "plt.show()\n"
      ],
      "metadata": {
        "colab": {
          "base_uri": "https://localhost:8080/",
          "height": 472
        },
        "id": "Ot-EhPYUkw5V",
        "outputId": "72dda12e-292e-4984-a6f5-7b295f758a9f"
      },
      "execution_count": 18,
      "outputs": [
        {
          "output_type": "display_data",
          "data": {
            "text/plain": [
              "<Figure size 640x480 with 1 Axes>"
            ],
            "image/png": "[encoded data removed]"
          },
          "metadata": {}
        }
      ]
    },
    {
      "cell_type": "code",
      "source": [
        "from sklearn.metrics import precision_score, recall_score, f1_score\n",
        "\n",
        "X_13, y_13 = load_iris(return_X_y=True)\n",
        "X_train_13, X_test_13, y_train_13, y_test_13 = train_test_split(X_13, y_13, test_size=0.3, random_state=42)\n",
        "clf_13 = DecisionTreeClassifier()\n",
        "clf_13.fit(X_train_13, y_train_13)\n",
        "y_pred_13 = clf_13.predict(X_test_13)\n",
        "\n",
        "print(\"Precision:\", precision_score(y_test_13, y_pred_13, average='macro'))\n",
        "print(\"Recall:\", recall_score(y_test_13, y_pred_13, average='macro'))\n",
        "print(\"F1 Score:\", f1_score(y_test_13, y_pred_13, average='macro'))\n"
      ],
      "metadata": {
        "colab": {
          "base_uri": "https://localhost:8080/"
        },
        "id": "PkTsY_zck0gv",
        "outputId": "c4472efb-53d6-4420-ed83-c76c03d64db1"
      },
      "execution_count": 19,
      "outputs": [
        {
          "output_type": "stream",
          "name": "stdout",
          "text": [
            "Precision: 1.0\n",
            "Recall: 1.0\n",
            "F1 Score: 1.0\n"
          ]
        }
      ]
    },
    {
      "cell_type": "code",
      "source": [
        "from sklearn.metrics import confusion_matrix\n",
        "import seaborn as sns\n",
        "import matplotlib.pyplot as plt\n",
        "\n",
        "X_14, y_14 = load_iris(return_X_y=True)\n",
        "X_train_14, X_test_14, y_train_14, y_test_14 = train_test_split(X_14, y_14, test_size=0.3, random_state=42)\n",
        "\n",
        "clf_14 = DecisionTreeClassifier()\n",
        "clf_14.fit(X_train_14, y_train_14)\n",
        "y_pred_14 = clf_14.predict(X_test_14)\n",
        "\n",
        "cm_14 = confusion_matrix(y_test_14, y_pred_14)\n",
        "sns.heatmap(cm_14, annot=True, fmt=\"d\", cmap=\"Blues\")\n",
        "plt.title(\"Confusion Matrix\")\n",
        "plt.xlabel(\"Predicted\")\n",
        "plt.ylabel(\"True\")\n",
        "plt.show()\n"
      ],
      "metadata": {
        "colab": {
          "base_uri": "https://localhost:8080/",
          "height": 472
        },
        "id": "NcHWt7gZk5hv",
        "outputId": "906345a1-25f9-4825-aa2a-ce3da8b98666"
      },
      "execution_count": 20,
      "outputs": [
        {
          "output_type": "display_data",
          "data": {
            "text/plain": [
              "<Figure size 640x480 with 2 Axes>"
            ],
            "image/png": "[encoded data removed]"
          },
          "metadata": {}
        }
      ]
    },
    {
      "cell_type": "code",
      "source": [
        "from sklearn.model_selection import GridSearchCV\n",
        "\n",
        "X_15, y_15 = load_iris(return_X_y=True)\n",
        "X_train_15, X_test_15, y_train_15, y_test_15 = train_test_split(X_15, y_15, test_size=0.3, random_state=42)\n",
        "\n",
        "param_grid = {\n",
        "    'max_depth': [2, 3, 4, 5],\n",
        "    'min_samples_split': [2, 5, 10]\n",
        "}\n",
        "\n",
        "grid_15 = GridSearchCV(DecisionTreeClassifier(), param_grid, cv=5)\n",
        "grid_15.fit(X_train_15, y_train_15)\n",
        "\n",
        "print(\"Best Parameters:\", grid_15.best_params_)\n",
        "print(\"Best Score on Training:\", grid_15.best_score_)\n",
        "print(\"Test Accuracy:\", grid_15.score(X_test_15, y_test_15))\n"
      ],
      "metadata": {
        "id": "TAfhIIJhk8l8",
        "outputId": "dae83530-d3d9-4003-8168-21fa35e38d8d",
        "colab": {
          "base_uri": "https://localhost:8080/"
        }
      },
      "execution_count": 21,
      "outputs": [
        {
          "output_type": "stream",
          "name": "stdout",
          "text": [
            "Best Parameters: {'max_depth': 4, 'min_samples_split': 10}\n",
            "Best Score on Training: 0.9428571428571428\n",
            "Test Accuracy: 1.0\n"
          ]
        }
      ]
    }
  ]
}