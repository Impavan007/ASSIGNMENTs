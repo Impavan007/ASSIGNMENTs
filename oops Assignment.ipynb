{
  "metadata": {
    "kernelspec": {
      "name": "python",
      "display_name": "Python (Pyodide)",
      "language": "python"
    },
    "language_info": {
      "codemirror_mode": {
        "name": "python",
        "version": 3
      },
      "file_extension": ".py",
      "mimetype": "text/x-python",
      "name": "python",
      "nbconvert_exporter": "python",
      "pygments_lexer": "ipython3",
      "version": "3.8"
    }
  },
  "nbformat_minor": 4,
  "nbformat": 4,
  "cells": [
    {
      "cell_type": "code",
      "source": "print(\"helo\")",
      "metadata": {
        "trusted": true
      },
      "outputs": [
        {
          "name": "stdout",
          "text": "helo\n",
          "output_type": "stream"
        }
      ],
      "execution_count": 1
    },
    {
      "cell_type": "code",
      "source": "class Car:\n    def make(self,name):\n        self.name=name;\n    def model(self,modelName):\n        self.modelName=modelName;\n    def year(self,modelYear):\n        self.modelYear=modelYear;\n    def CarInfo(self):\n        return f\"this is {self.name} {self.modelName} model {self.modelYear}\"\nc=Car();\nc.make(\"hyundai\");\nc.model(\"i 20\")\nc.year(2018);\nc.CarInfo()",
      "metadata": {
        "trusted": true
      },
      "outputs": [
        {
          "execution_count": 2,
          "output_type": "execute_result",
          "data": {
            "text/plain": "'this is hyundai i 20 model 2018'"
          },
          "metadata": {}
        }
      ],
      "execution_count": 2
    },
    {
      "cell_type": "code",
      "source": "class A:\n    def method(self):\n        print(\"A's Method\")\n\nclass B(A):\n    def method(self):\n        print(\"B's Method\")\n        super().method()  # Calls the next method in the MRO\n\nclass C(A):\n    def method(self):\n        print(\"C's Method\")\n        super().method()\n\nclass D(A):\n    def method(self):\n        print(\"D's Method\")\n        super().method()\nclass E(D,C,B,):\n    def method(self):\n        print(\"E's Method\")\n        super().method() # Calls B's method due to MRO\n\n# Creating an instance\nd = E()\nd.method()\n",
      "metadata": {
        "trusted": true
      },
      "outputs": [
        {
          "name": "stdout",
          "text": "E's Method\nD's Method\nC's Method\nB's Method\nA's Method\n",
          "output_type": "stream"
        }
      ],
      "execution_count": 3
    },
    {
      "cell_type": "code",
      "source": "from abc import ABC, abstractmethod\nimport math\nclass Shape:\n    @abstractmethod\n    def Area(self):\n        pass\nclass Circle(Shape):\n        def __init__(self,radius):\n            self.radius=radius;\n        def area(self):\n            return math.pi * self.radius ** 2\nclass Rectangle(Shape):\n    def __init__(self, width, height):\n        self.width = width\n        self.height = height\n\n    def area(self):\n       \n        return self.width * self.height\ncircle = Circle(7)  # Circle with radius 7\nrectangle = Rectangle(5, 10) \n\nprint(circle.area());\nprint(rectangle.area())",
      "metadata": {
        "trusted": true
      },
      "outputs": [
        {
          "name": "stdout",
          "text": "153.93804002589985\n50\n",
          "output_type": "stream"
        }
      ],
      "execution_count": 37
    },
    {
      "cell_type": "code",
      "source": "from abc import ABC,abstractmethod\nimport math\n\nclass Shape(ABC):\n    @abstractmethod\n    def area(self):\n        pass\nclass Circle(Shape):\n    def __init__(self,rad):\n        self.rad=rad;\n    def area(self):\n        return math.pi*self.rad**2;\nclass Rectangle(Shape):\n        def __init__(self,w,h):\n            self.w=w\n            self.h=h\n        def area(self):\n            return self.w*self.h\nc=Circle(4);\nR=Rectangle(4,5);\ndef print_area(shape:Shape):\n    print(f\"The area of {type(shape).__name__}:{shape.area()}\")\nl=[c,R];\nfor i in l:\n    print_area(i);",
      "metadata": {
        "trusted": true
      },
      "outputs": [
        {
          "name": "stdout",
          "text": "The area of Circle:50.26548245743669\nThe area of Rectangle:20\n",
          "output_type": "stream"
        }
      ],
      "execution_count": 16
    },
    {
      "cell_type": "code",
      "source": "class BankAccount:\n    def __init__(self, account_number, initial_balance=0):\n        # Private attributes\n        self.__account_number = account_number\n        self.__balance = initial_balance\n\n    # Method to deposit money\n    def deposit(self, amount):\n        if amount > 0:\n            self.__balance += amount\n            print(f\"Deposited ${amount:.2f}. New balance: ${self.__balance:.2f}\")\n        else:\n            print(\"Deposit amount must be positive.\")\n\n    def withdraw(self, amount):\n        if amount > 0:\n            if amount <= self.__balance:\n                self.__balance -= amount\n                print(f\"Withdrew ${amount:.2f}. Remaining balance: ${self.__balance:.2f}\")\n            else:\n                print(\"Insufficient funds.\")\n        else:\n            print(\"Withdrawal amount must be positive.\")\n\n    def get_balance(self):\n        return self.__balance\n\n    def display_account_info(self):\n        print(f\"Account Number: {self.__account_number}\")\n        print(f\"Balance: ${self.__balance:.2f}\")\n\n\n\naccount = BankAccount(\"123456789\", 500)  \n\n# Performing operations\naccount.display_account_info()  \naccount.deposit(200)             \naccount.withdraw(150)           \nprint(f\"Current Balance: ${account.get_balance():.2f}\")  \naccount.withdraw(600)            \n",
      "metadata": {
        "trusted": true
      },
      "outputs": [
        {
          "name": "stdout",
          "text": "Account Number: 123456789\nBalance: $500.00\nDeposited $200.00. New balance: $700.00\nWithdrew $150.00. Remaining balance: $550.00\nCurrent Balance: $550.00\nInsufficient funds.\n",
          "output_type": "stream"
        }
      ],
      "execution_count": 18
    },
    {
      "cell_type": "code",
      "source": "class Point:\n    def __init__(self, x, y):\n        self.x = x\n        self.y = y\n\n    def __str__(self):\n        return f\"Point({self.x}, {self.y})\"\n\n    def __add__(self, other):\n        if isinstance(other, Point):\n            return Point(self.x + other.x, self.y + other.y)\n        raise TypeError(\"Operands must be of type 'Point'\")\n\npoint1 = Point(2, 3)\npoint2 = Point(4, 5)\n\nprint(point1)  \n\npoint3 = point1 + point2\nprint(point3)  \n",
      "metadata": {
        "trusted": true
      },
      "outputs": [],
      "execution_count": null
    },
    {
      "cell_type": "code",
      "source": "import time\n\ndef timerDecorator(x):\n    def timer():\n        start=time.time();\n        x();\n        end=time.time();\n        print(f\"execution time= start time :{start} end time:{end}\");\n    return timer\n\n@timerDecorator\ndef fun_fest():\n    print(2*100);\n\n\nfun_fest();",
      "metadata": {
        "trusted": true
      },
      "outputs": [
        {
          "name": "stdout",
          "text": "200\nexecution time= start time :1733305523.938 end time:1733305523.938\n",
          "output_type": "stream"
        }
      ],
      "execution_count": 26
    },
    {
      "cell_type": "code",
      "source": "class InstanceCounter:\n    # Class variable to track the number of instances\n    _instance_count = 0\n\n    def __init__(self):\n        # Increment the counter each time a new instance is created\n        InstanceCounter._instance_count += 1\n\n    @classmethod\n    def get_instance_count(cls):\n        # Class method to return the current instance count\n        return cls._instance_count\n\n# Example usage\nobj1 = InstanceCounter()\nobj2 = InstanceCounter()\nobj3 = InstanceCounter()\n\nprint(f\"Number of instances created: {InstanceCounter.get_instance_count()}\")  # Output: 3\n",
      "metadata": {
        "trusted": true
      },
      "outputs": [
        {
          "name": "stdout",
          "text": "Number of instances created: 3\n",
          "output_type": "stream"
        }
      ],
      "execution_count": 25
    },
    {
      "cell_type": "code",
      "source": "class YearUtility:\n    @staticmethod\n    def is_leap_year(year):\n       \n        if (year % 4 == 0 and year % 100 != 0) or (year % 400 == 0):\n            return True\n        return False\n\n# Example usage\nprint(YearUtility.is_leap_year(2024))  # Output: True (Leap year)\nprint(YearUtility.is_leap_year(1900))  # Output: False (Not a leap year)\nprint(YearUtility.is_leap_year(2000))  # Output: True (Leap year)\n",
      "metadata": {
        "trusted": true
      },
      "outputs": [
        {
          "name": "stdout",
          "text": "True\nFalse\nTrue\n",
          "output_type": "stream"
        }
      ],
      "execution_count": 24
    },
    {
      "cell_type": "code",
      "source": "",
      "metadata": {
        "trusted": true
      },
      "outputs": [],
      "execution_count": null
    }
  ]
}