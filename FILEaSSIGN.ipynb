{
  "metadata": {
    "kernelspec": {
      "name": "python",
      "display_name": "Python (Pyodide)",
      "language": "python"
    },
    "language_info": {
      "codemirror_mode": {
        "name": "python",
        "version": 3
      },
      "file_extension": ".py",
      "mimetype": "text/x-python",
      "name": "python",
      "nbconvert_exporter": "python",
      "pygments_lexer": "ipython3",
      "version": "3.8"
    }
  },
  "nbformat_minor": 4,
  "nbformat": 4,
  "cells": [
    {
      "cell_type": "code",
      "source": "with open(\"example.txt\", \"w\") as file:\n    file.write(\"Hello, this is a test string.\")\n",
      "metadata": {
        "trusted": true
      },
      "outputs": [],
      "execution_count": null
    },
    {
      "cell_type": "code",
      "source": "try:\n    with open(\"example.txt\", \"r\") as file:\n        for line in file:\n            print(line.strip())\nexcept FileNotFoundError:\n    print(\"The file does not exist.\")\n",
      "metadata": {
        "trusted": true
      },
      "outputs": [],
      "execution_count": null
    },
    {
      "cell_type": "code",
      "source": "try:\n    with open(\"non_existent_file.txt\", \"r\") as file:\n        content = file.read()\nexcept FileNotFoundError:\n    print(\"Error: The file does not exist.\")\n",
      "metadata": {
        "trusted": true
      },
      "outputs": [],
      "execution_count": null
    },
    {
      "cell_type": "code",
      "source": "try:\n    with open(\"source.txt\", \"r\") as source, open(\"destination.txt\", \"w\") as destination:\n        for line in source:\n            destination.write(line)\nexcept FileNotFoundError:\n    print(\"One of the files does not exist.\")\n",
      "metadata": {
        "trusted": true
      },
      "outputs": [],
      "execution_count": null
    },
    {
      "cell_type": "code",
      "source": "try:\n    result = 10 / 0\nexcept ZeroDivisionError:\n    print(\"Error: Division by zero is not allowed.\")\n",
      "metadata": {
        "trusted": true
      },
      "outputs": [],
      "execution_count": null
    },
    {
      "cell_type": "code",
      "source": "import logging\n\nlogging.basicConfig(filename=\"error.log\", level=logging.ERROR)\n\ntry:\n    result = 10 / 0\nexcept ZeroDivisionError as e:\n    logging.error(\"Division by zero occurred: %s\", e)\n",
      "metadata": {
        "trusted": true
      },
      "outputs": [],
      "execution_count": null
    },
    {
      "cell_type": "code",
      "source": "import logging\n\nlogging.basicConfig(level=logging.DEBUG, format='%(levelname)s: %(message)s')\n\nlogging.info(\"This is an INFO message.\")\nlogging.warning(\"This is a WARNING message.\")\nlogging.error(\"This is an ERROR message.\")\n",
      "metadata": {
        "trusted": true
      },
      "outputs": [],
      "execution_count": null
    },
    {
      "cell_type": "code",
      "source": "try:\n    with open(\"non_existent_file.txt\", \"r\") as file:\n        content = file.read()\nexcept FileNotFoundError:\n    print(\"Error: The file could not be opened.\")\n",
      "metadata": {
        "trusted": true
      },
      "outputs": [],
      "execution_count": null
    },
    {
      "cell_type": "code",
      "source": "raise ValueError(\"This is a custom exception.\")\n",
      "metadata": {
        "trusted": true
      },
      "outputs": [],
      "execution_count": null
    },
    {
      "cell_type": "code",
      "source": "with open(\"example.txt\", \"r\") as file:\n    line = file.readline()\n    while line:\n        print(line.strip())\n        line = file.readline()\n",
      "metadata": {
        "trusted": true
      },
      "outputs": [],
      "execution_count": null
    },
    {
      "cell_type": "code",
      "source": "import os\n\nif os.path.exists(\"example.txt\"):\n    with open(\"example.txt\", \"r\") as file:\n        print(file.read())\nelse:\n    print(\"File does not exist.\")\n",
      "metadata": {
        "trusted": true
      },
      "outputs": [],
      "execution_count": null
    },
    {
      "cell_type": "code",
      "source": "try:\n    # Code that might raise exceptions\n    result = 10 / 0\nexcept ZeroDivisionError:\n    print(\"Caught a division by zero error.\")\nexcept FileNotFoundError:\n    print(\"File not found.\")\n",
      "metadata": {
        "trusted": true
      },
      "outputs": [],
      "execution_count": null
    },
    {
      "cell_type": "code",
      "source": "with open(\"source_binary_file\", \"rb\") as source, open(\"destination_binary_file\", \"wb\") as destination:\n    destination.write(source.read())\n",
      "metadata": {
        "trusted": true
      },
      "outputs": [],
      "execution_count": null
    },
    {
      "cell_type": "code",
      "source": "import logging\n\nlogger = logging.getLogger(\"custom_logger\")\nlogger.setLevel(logging.DEBUG)\n\n# Add a console handler\nconsole_handler = logging.StreamHandler()\nconsole_handler.setLevel(logging.DEBUG)\n\n# Add a file handler\nfile_handler = logging.FileHandler(\"custom.log\")\nfile_handler.setLevel(logging.ERROR)\n\n# Add formatter\nformatter = logging.Formatter('%(asctime)s - %(levelname)s - %(message)s')\nconsole_handler.setFormatter(formatter)\nfile_handler.setFormatter(formatter)\n\n# Attach handlers\nlogger.addHandler(console_handler)\nlogger.addHandler(file_handler)\n\nlogger.info(\"This is an INFO message.\")\nlogger.error(\"This is an ERROR message.\")\n",
      "metadata": {
        "trusted": true
      },
      "outputs": [],
      "execution_count": null
    },
    {
      "cell_type": "code",
      "source": "try:\n    result = 10 / 0\nexcept ZeroDivisionError:\n    print(\"Only handling division by zero error.\")\n",
      "metadata": {
        "trusted": true
      },
      "outputs": [],
      "execution_count": null
    },
    {
      "cell_type": "code",
      "source": "import os\n\n# Get current working directory\nprint(os.getcwd())\n\n# Create a directory\nos.mkdir(\"new_directory\")\n\n# Remove a file\nos.remove(\"example.txt\")\n",
      "metadata": {
        "trusted": true
      },
      "outputs": [],
      "execution_count": null
    },
    {
      "cell_type": "code",
      "source": "Python's garbage collector detects and handles circular references automatically. For manual control:\n\npython\nCopy code\nimport gc\ngc.collect()",
      "metadata": {
        "trusted": true
      },
      "outputs": [],
      "execution_count": null
    },
    {
      "cell_type": "code",
      "source": "with open(\"example.txt\", \"r\") as file:\n    print(file.read())\n# File is automatically closed after the block\n",
      "metadata": {
        "trusted": true
      },
      "outputs": [],
      "execution_count": null
    }
  ]
}